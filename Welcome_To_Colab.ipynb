{
  "cells": [
    {
      "cell_type": "markdown",
      "metadata": {
        "id": "view-in-github",
        "colab_type": "text"
      },
      "source": [
        "<a href=\"https://colab.research.google.com/github/zuhaibai123/AI-CHATBOT/blob/main/Welcome_To_Colab.ipynb\" target=\"_parent\"><img src=\"https://colab.research.google.com/assets/colab-badge.svg\" alt=\"Open In Colab\"/></a>"
      ]
    },
    {
      "cell_type": "code",
      "source": [
        "from itertools import zip_longests\n",
        "import streamlit as st\n",
        "from streamlit_chat import messages\n",
        "from langchain.chat_models import ChatOpenAI\n",
        "from langchain.schema import(\n",
        "    SystemMessage,\n",
        "    HumanMessage,\n",
        "    AIMessage\n",
        ")\n",
        "\n",
        "api_key=\"openaikey\"\n",
        "\n",
        "st.ste_page_config(page_title=\"AI chatbot for me\")\n",
        "st.title(\"AI chatbot\")\n",
        "\n",
        "if \"generated\" not in st.session_state:\n",
        "    st.session_state[\"generated\"]=[]\n",
        "if \"past\" not in st.session_state:\n",
        "    st.session_state[\"past\"] =[]\n",
        "if \"entered_prompt\" not in st.session_state:\n",
        "    st.session_state[\"entered_prompt\"]=[]\n",
        "\n",
        "st.text_input(\"You\",key=\"prompt_input\",on_change=submit())\n",
        "\n",
        "def submit():\n",
        "    st.session_state.entered_prompt=st.session_state.prompt_input\n",
        "    st.session_state.prompt_input=\"\"\n",
        "\n",
        "if st.session_state.entered_prompt !=\"\":\n",
        "    user_query=st.sesasion_state.entered_prompt\n",
        "    st.session_state.past.append(user_query)\n",
        "    output=generate_response()\n",
        "    st.session_state.generated.append(output)\n",
        "\n",
        "\n",
        "chat=ChatOpenAI(\n",
        "    model=\"gpt_4\",\n",
        "    temperature=0.5,\n",
        "    max_tokens=100,\n",
        "    opneai_api_key=api_key\n",
        ")\n",
        "\n",
        "def build_messages():\n",
        "    zipped_messages=[\n",
        "        SystemMessage(\n",
        "            content=\"\"\"your name is AI Mentor. You are an AI Technical Expert for Artificial Intelligence, here to guide and assist students with their AI-related questions and concerns. Please provide accurate and helpful information, and always maintain a polite and professional tone.\n",
        "                1. Greet the user politely ask user name and ask how you can assist them with AI-related queries.\n",
        "                2. Provide informative and relevant responses to questions about artificial intelligence, machine learning, deep learning, natural language processing, computer vision, and related topics.\n",
        "                3. you must Avoid discussing sensitive, offensive, or harmful content. Refrain frent and considerate when responding to user queries, and provide clear explanations.\n",
        "                4. If the user asks about a topic unrelated to AI, politely steer the conversation back to AI or inform them that the topic is outside the scope of this conversation.\n",
        "                5. Be patient and considerate when responding to user queries, and provide clear explanations.\n",
        "                6. If the user expresses gratitude or indicates the end of the conversation, respond with a polite farewell.\n",
        "                7. Do Not generate the long paragarphs in response. Maximum Words should be 100.\n",
        "\n",
        "                Remember, your primary goal is to assist and educate students in the field of Artificial Intelligence. Always prioritize their learning experience and well-being.\"\"\"\n",
        "        )\n",
        "    ]\n",
        "    for human_msg,ai_msg in zip_longests(st.session_state[\"past\"],st.session_state[\"generated\"]):\n",
        "        if human_msg is not None:\n",
        "            zipped_messages.append(HumanMessage(content=human_msg))\n",
        "        if ai_msg is not None:\n",
        "            zipped_messages.append(AIMessage(content=ai_msg))\n",
        "\n"
      ],
      "metadata": {
        "id": "z4XsKrwAlbKr"
      },
      "execution_count": null,
      "outputs": []
    }
  ],
  "metadata": {
    "colab": {
      "name": "Welcome To Colab",
      "provenance": [],
      "include_colab_link": true
    },
    "kernelspec": {
      "display_name": "Python 3",
      "name": "python3"
    }
  },
  "nbformat": 4,
  "nbformat_minor": 0
}